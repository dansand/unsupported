{
 "cells": [
  {
   "cell_type": "markdown",
   "metadata": {
    "deletable": true,
    "editable": true
   },
   "source": [
    "## Test"
   ]
  },
  {
   "cell_type": "code",
   "execution_count": 1,
   "metadata": {
    "collapsed": true,
    "deletable": true,
    "editable": true
   },
   "outputs": [],
   "source": [
    "import sys\n"
   ]
  },
  {
   "cell_type": "code",
   "execution_count": 2,
   "metadata": {
    "collapsed": true,
    "deletable": true,
    "editable": true
   },
   "outputs": [],
   "source": [
    "#if the unsupported module is not in pythonpath, set it here:\n",
    "try:\n",
    "    sys.path.append('../../../unsupported')\n",
    "except:\n",
    "    pass\n",
    "    "
   ]
  },
  {
   "cell_type": "code",
   "execution_count": 5,
   "metadata": {
    "collapsed": false,
    "deletable": true,
    "editable": true
   },
   "outputs": [
    {
     "name": "stderr",
     "output_type": "stream",
     "text": [
      "../../../unsupported/unsupported_dan/easymodels/__init__.py:9: UserWarning: \n",
      "\n",
      "The easymodels module is not supported.\n",
      "Questions should be addressed to sandd@student.unimelb.edu.au \n",
      " \n",
      "  Questions should be addressed to sandd@student.unimelb.edu.au \\n \"\"\"\n"
     ]
    }
   ],
   "source": [
    "from unsupported_dan.easymodels import easy_args\n",
    "from easydict import EasyDict as edict"
   ]
  },
  {
   "cell_type": "markdown",
   "metadata": {
    "deletable": true,
    "editable": true
   },
   "source": [
    "## Examples"
   ]
  },
  {
   "cell_type": "code",
   "execution_count": 7,
   "metadata": {
    "collapsed": false,
    "deletable": true,
    "editable": true
   },
   "outputs": [
    {
     "name": "stdout",
     "output_type": "stream",
     "text": [
      "default values:\n",
      "('gary', 2.0, False)\n",
      "updated values:\n",
      "('terry,', 84.0, True)\n",
      "and True in the Python sense\n"
     ]
    }
   ],
   "source": [
    "%run test.py dp.arg3*=42. dp.arg2='terry', dp.arg4=True"
   ]
  },
  {
   "cell_type": "code",
   "execution_count": 8,
   "metadata": {
    "collapsed": false,
    "deletable": true,
    "editable": true
   },
   "outputs": [
    {
     "name": "stdout",
     "output_type": "stream",
     "text": [
      "default values:\n",
      "('gary', 2.0, False)\n",
      "updated values:\n",
      "('bruce,', 0.037037037037037035, 0.0)\n"
     ]
    }
   ],
   "source": [
    "%run test.py dp.arg3/=54. dp.arg2='bruce', dp.arg4=0"
   ]
  },
  {
   "cell_type": "code",
   "execution_count": 9,
   "metadata": {
    "collapsed": false,
    "deletable": true,
    "editable": true
   },
   "outputs": [
    {
     "name": "stdout",
     "output_type": "stream",
     "text": [
      "default values:\n",
      "('gary', 2.0, False)\n",
      "updated values:\n",
      "('cheryl,', 26.0, 0.0)\n"
     ]
    }
   ],
   "source": [
    "%run test.py dp.arg3+=24. dp.arg2='cheryl', dp.arg4=0"
   ]
  },
  {
   "cell_type": "code",
   "execution_count": 10,
   "metadata": {
    "collapsed": false,
    "deletable": true,
    "editable": true
   },
   "outputs": [
    {
     "name": "stdout",
     "output_type": "stream",
     "text": [
      "default values:\n",
      "('gary', 2.0, False)\n",
      "updated values:\n",
      "('Trish,', -22.0, True)\n",
      "and True in the Python sense\n"
     ]
    }
   ],
   "source": [
    "%run test.py dp.arg3-=24. dp.arg2='Trish', dp.arg4=True"
   ]
  },
  {
   "cell_type": "code",
   "execution_count": 11,
   "metadata": {
    "collapsed": false,
    "deletable": true,
    "editable": true
   },
   "outputs": [
    {
     "name": "stdout",
     "output_type": "stream",
     "text": [
      "default values:\n",
      "('gary', 2.0, False)\n",
      "updated values:\n",
      "('Trish,', 33.0, True)\n",
      "and True in the Python sense\n"
     ]
    }
   ],
   "source": [
    "%run test.py dp.arg3=33. dp.arg2='Trish', dp.arg4=True"
   ]
  },
  {
   "cell_type": "markdown",
   "metadata": {},
   "source": [
    "## Scientific notation \n",
    "\n",
    "is fine"
   ]
  },
  {
   "cell_type": "code",
   "execution_count": 19,
   "metadata": {
    "collapsed": false,
    "deletable": true,
    "editable": true
   },
   "outputs": [
    {
     "name": "stdout",
     "output_type": "stream",
     "text": [
      "default values:\n",
      "('gary', 2.0, False)\n",
      "updated values:\n",
      "('gary', 1e+21, False)\n"
     ]
    }
   ],
   "source": [
    "%run test.py dp.arg3=1e21"
   ]
  },
  {
   "cell_type": "markdown",
   "metadata": {},
   "source": [
    "unless an errant decimal point sneaks in:"
   ]
  },
  {
   "cell_type": "code",
   "execution_count": 20,
   "metadata": {
    "collapsed": false
   },
   "outputs": [
    {
     "name": "stdout",
     "output_type": "stream",
     "text": [
      "default values:\n",
      "('gary', 2.0, False)\n",
      "updated values:\n",
      "('gary', '1e21.', False)\n"
     ]
    }
   ],
   "source": [
    "%run test.py dp.arg3=1e21."
   ]
  },
  {
   "cell_type": "code",
   "execution_count": null,
   "metadata": {
    "collapsed": true
   },
   "outputs": [],
   "source": []
  }
 ],
 "metadata": {
  "kernelspec": {
   "display_name": "Python 2",
   "language": "python",
   "name": "python2"
  },
  "language_info": {
   "codemirror_mode": {
    "name": "ipython",
    "version": 2
   },
   "file_extension": ".py",
   "mimetype": "text/x-python",
   "name": "python",
   "nbconvert_exporter": "python",
   "pygments_lexer": "ipython2",
   "version": "2.7.9"
  }
 },
 "nbformat": 4,
 "nbformat_minor": 2
}
